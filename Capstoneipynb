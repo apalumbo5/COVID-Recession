{
  "cells": [
    {
      "cell_type": "markdown",
      "metadata": {
        "id": "view-in-github",
        "colab_type": "text"
      },
      "source": [
        "<a href=\"https://colab.research.google.com/github/apalumbo5/COVID-Recession/blob/main/recessiondata.ipynb\" target=\"_parent\"><img src=\"https://colab.research.google.com/assets/colab-badge.svg\" alt=\"Open In Colab\"/></a>"
      ]
    },
    {
      "cell_type": "code",
      "execution_count": null,
      "metadata": {
        "id": "RbAcUXPezr-_"
      },
      "outputs": [],
      "source": [
        "import pandas as pd\n",
        "from matplotlib import pyplot as plt\n",
        "import numpy as np\n",
        "%matplotlib inline\n",
        "np.set_printoptions(suppress=True)"
      ]
    },
    {
      "cell_type": "code",
      "execution_count": null,
      "metadata": {
        "id": "-K96KpNIzwJ9"
      },
      "outputs": [],
      "source": [
        "!pip install -U -q PyDrive\n",
        "from pydrive2.auth import GoogleAuth\n",
        "from pydrive2.drive import GoogleDrive\n",
        "from google.colab import auth\n",
        "from oauth2client.client import GoogleCredentials"
      ]
    },
    {
      "cell_type": "code",
      "execution_count": null,
      "metadata": {
        "id": "baXuFD7Szyxo"
      },
      "outputs": [],
      "source": [
        "auth.authenticate_user()\n",
        "gauth = GoogleAuth()\n",
        "gauth.credentials = GoogleCredentials.get_application_default()\n",
        "drive = GoogleDrive(gauth)\n"
      ]
    },
    {
      "cell_type": "code",
      "execution_count": null,
      "metadata": {
        "id": "A4ntOHHGz1OB"
      },
      "outputs": [],
      "source": [
        "downloaded = drive.CreateFile({'id':}) # replace the id with id of file you want to access. Do this for each file\n",
        "downloaded.GetContentFile('data.csv')"
      ]
    },
    {
      "cell_type": "code",
      "execution_count": null,
      "metadata": {
        "id": "-mBAAQaBz1Yr"
      },
      "outputs": [],
      "source": [
        "df20 = pd.read_csv(\"2020.csv\")"
      ]
    },
    {
      "cell_type": "code",
      "source": [
        "df19 = pd.read_csv(\"2019.csv\")"
      ],
      "metadata": {
        "id": "9VS1Zha_xT63"
      },
      "execution_count": null,
      "outputs": []
    },
    {
      "cell_type": "code",
      "source": [
        "# remove CA, AZ, NY, VA, TX from 'state'\n",
        "\n",
        "df20 = df20[~df20['state'].isin(['CA', 'AZ', 'NY', 'VA', 'TX'])]\n",
        "df19 = df19[~df19['state'].isin(['CA', 'AZ', 'NY', 'VA', 'TX'])]\n"
      ],
      "metadata": {
        "id": "yDFNBnoPjOq4"
      },
      "execution_count": null,
      "outputs": []
    },
    {
      "cell_type": "code",
      "source": [
        "df19['Year'] = 2019\n",
        "df20['Year'] = 20"
      ],
      "metadata": {
        "id": "QB3ygcLLCMxQ"
      },
      "execution_count": null,
      "outputs": []
    },
    {
      "cell_type": "code",
      "execution_count": null,
      "metadata": {
        "id": "zoWvVe4ULijE"
      },
      "outputs": [],
      "source": [
        "df_ALL = df_ALL[~df_ALL['STAABBRV'].isin(['CA', 'AZ', 'NY', 'VA', 'TX'])]"
      ]
    },
    {
      "cell_type": "code",
      "execution_count": null,
      "metadata": {
        "id": "XWpstPckLsRL"
      },
      "outputs": [],
      "source": [
        "df_All = df_All.drop(['LAT', 'LONG', 'Right_ZIP_CODE', 'Right_ZIP4'], axis=1)"
      ]
    },
    {
      "cell_type": "code",
      "execution_count": null,
      "metadata": {
        "id": "uT97yJrcL4nk"
      },
      "outputs": [],
      "source": [
        "df_All.rename(columns={'ZIP_CODE': 'zip'}, inplace=True)"
      ]
    },
    {
      "cell_type": "code",
      "execution_count": null,
      "metadata": {
        "id": "TrVQgKHDLnm9"
      },
      "outputs": [],
      "source": [
        "df_All['zip'] = df_All['zip'].astype(str)\n",
        "df_All['ZIP4'] = df_All['ZIP4'].astype(str)\n",
        "df_All['zip'] = df_All['zip'] + df_All['ZIP4']\n",
        "df_All = df_All.drop(columns=['ZIP4'])"
      ]
    },
    {
      "cell_type": "code",
      "execution_count": null,
      "metadata": {
        "id": "cMRheSp5MGBe"
      },
      "outputs": [],
      "source": [
        "if df_All['zip'].dtype == 'object':\n",
        "    df_All['zip'] = df_All['zip'].astype('int64')\n",
        "else:\n",
        "    df20['zip'] = df20['zip'].astype('object')"
      ]
    },
    {
      "cell_type": "code",
      "execution_count": null,
      "metadata": {
        "id": "u5cAsLWDK9ae"
      },
      "outputs": [],
      "source": [
        "# Combine df_ALL, df20, and df19 on 'zip'\n",
        "\n",
        "df2 = pd.merge(df_All, df20, on='zip', how='inner')\n",
        "df = pd.merge(df2, df19, on='zip', how='inner')\n"
      ]
    },
    {
      "cell_type": "code",
      "source": [
        "# remove 'state' and 'STAABBRV'\n",
        "\n",
        "df = df.drop(['state_x', 'state_y'], axis=1)\n"
      ],
      "metadata": {
        "id": "vSBrfgLnxlk1"
      },
      "execution_count": null,
      "outputs": []
    },
    {
      "cell_type": "code",
      "source": [
        "# Convert 20_CRRTTPE into 0 if 'C', 'B' otherwise '1'\n",
        "\n",
        "df['20_CRRTTYPE'] = df['20_CRRTTYPE'].apply(lambda x: 0 if x in ['C', 'B'] else 1)\n"
      ],
      "metadata": {
        "id": "6VayOJG_FDR6"
      },
      "execution_count": null,
      "outputs": []
    },
    {
      "cell_type": "code",
      "source": [
        "# Delete columns where standard deviation = 0 drop '20_CRRTTYPE\n",
        "\n",
        "import numpy as np\n",
        "\n",
        "\n",
        "# Find the standard deviation of each column\n",
        "std_devs = df.std(axis=0)\n",
        "\n",
        "# Find the columns where the standard deviation is 0\n",
        "zero_std_cols = std_devs[std_devs == 0].index.tolist()\n",
        "\n",
        "# Drop the columns with zero standard deviation\n",
        "df = df.drop(zero_std_cols, axis=1)\n",
        "\n",
        "\n"
      ],
      "metadata": {
        "id": "q01baGAGWWvA"
      },
      "execution_count": null,
      "outputs": []
    },
    {
      "cell_type": "code",
      "source": [
        "df.shape"
      ],
      "metadata": {
        "id": "MTOcftjCPxzs"
      },
      "execution_count": null,
      "outputs": []
    },
    {
      "cell_type": "code",
      "source": [
        "# Remove 0s from 20_HH20  20_AVGHHSIZE and 20_MEDAGHHER\n",
        "\n",
        "\n",
        "df['20_AVGHHSIZE'] = df['20_AVGHHSIZE'].replace(0, np.nan)\n",
        "df['20_MEDAGHHER'] = df['20_MEDAGHHER'].replace(0, np.nan)\n"
      ],
      "metadata": {
        "id": "Dm253IRGXBZJ"
      },
      "execution_count": null,
      "outputs": []
    },
    {
      "cell_type": "code",
      "source": [
        "#Calculate diversity index\n",
        "df['diversity_index'] = 1 - ((df['19_PCTWHPOP'] / 100)**2 + (df['19_PCTBLPOP'] / 100)**2 + (df['19_PCTHISPOP'] / 100)**2)\n",
        "print(df['diversity_index'])"
      ],
      "metadata": {
        "id": "PGNOvCYMxr9_"
      },
      "execution_count": null,
      "outputs": []
    },
    {
      "cell_type": "code",
      "source": [
        "# Find missing values\n",
        "\n",
        "missing_values = df.isnull().sum()\n",
        "\n",
        "# Print the number of missing values in each column\n",
        "print(missing_values)\n"
      ],
      "metadata": {
        "id": "1Gdq7rn-XUvk"
      },
      "execution_count": null,
      "outputs": []
    },
    {
      "cell_type": "code",
      "source": [
        "# Delete missing values\n",
        "\n",
        "df = df.dropna()\n"
      ],
      "metadata": {
        "id": "gTRq9U11uaYY"
      },
      "execution_count": null,
      "outputs": []
    },
    {
      "cell_type": "code",
      "source": [
        "\n",
        "df.describe().drop(columns=['zip']).T\n"
      ],
      "metadata": {
        "id": "Bm0ZPiAYszwc"
      },
      "execution_count": null,
      "outputs": []
    },
    {
      "cell_type": "code",
      "source": [
        "import pandas as pd\n",
        "\n",
        "# Calculate pairwise correlation\n",
        "correlation_matrix = df.corr()\n",
        "\n",
        "threshold = 0.8  # Set correlation threshold\n",
        "high_correlation_pairs = []\n",
        "for i in range(len(correlation_matrix.columns)):\n",
        "    for j in range(i+1, len(correlation_matrix.columns)):\n",
        "        if abs(correlation_matrix.iloc[i, j]) > threshold:\n",
        "            high_correlation_pairs.append((correlation_matrix.columns[i], correlation_matrix.columns[j]))\n",
        "\n",
        "features_to_remove = set()\n",
        "for pair in high_correlation_pairs:\n",
        "    features_to_remove.add(pair[1])\n",
        "# Remove highly correlated features from the dataset\n",
        "df_filtered = df.drop(features_to_remove, axis=1)\n",
        "\n"
      ],
      "metadata": {
        "id": "daELtveUNycC"
      },
      "execution_count": null,
      "outputs": []
    },
    {
      "cell_type": "code",
      "source": [
        "df_filtered"
      ],
      "metadata": {
        "id": "b2BcQ82-THMT"
      },
      "execution_count": null,
      "outputs": []
    },
    {
      "cell_type": "code",
      "source": [
        "# Heatmap of features\n",
        "\n",
        "import seaborn as sns\n",
        "import matplotlib.pyplot as plt\n",
        "\n",
        "df_All_corr = df_All.drop(columns=['zip', 'STAABBRV', '20_CRRTTYPE']).corr()\n",
        "\n",
        "fig, ax = plt.subplots(figsize=(15, 15))\n",
        "sns.heatmap(df_All_corr, annot=True, fmt=\".1g\", ax=ax, cmap=\"coolwarm\")\n",
        "plt.show()\n"
      ],
      "metadata": {
        "id": "yKC_nTLALwad"
      },
      "execution_count": null,
      "outputs": []
    },
    {
      "cell_type": "code",
      "source": [
        "# Diversity index distribution plot\n",
        "sns.displot(df_filtered, x=\"diversity_index\", bins=12)\n",
        "plt.show()\n"
      ],
      "metadata": {
        "id": "BtWjlP46OiIa"
      },
      "execution_count": null,
      "outputs": []
    },
    {
      "cell_type": "code",
      "source": [
        "#100 - 19_PCTWHPOP = pct_nonwhite\n",
        "\n",
        "df_filtered['pct_nonwhite'] = 100 - df_filtered['19_PCTWHPOP']\n"
      ],
      "metadata": {
        "id": "PTWKpY-FJ7Ug"
      },
      "execution_count": null,
      "outputs": []
    },
    {
      "cell_type": "code",
      "source": [
        "df.drop(columns=['19_PCTWNHPOP', '19_PCTBLPOP', '19_PCTHISPOP, '19_PCTWHPOP'], axis=1)"
      ],
      "metadata": {
        "id": "XU0D2ec_e4Rb"
      },
      "execution_count": null,
      "outputs": []
    },
    {
      "cell_type": "code",
      "source": [
        "# Calculate difference in months since last delinquency\n",
        "\n",
        "df_selected.loc[:, 'delinq_diff'] = df_selected['at36_x'] - df_selected['at36_y']\n",
        "\n",
        "df_selected['delinq_diff'].describe()\n"
      ],
      "metadata": {
        "id": "mT5fMidLcoqm"
      },
      "execution_count": null,
      "outputs": []
    },
    {
      "cell_type": "code",
      "source": [
        "# Distribution of delinq_diff spread out\n",
        "\n",
        "df_selected['delinq_diff'].plot.hist(bins=50)\n",
        "plt.xlabel('Delinquency Difference')\n",
        "plt.ylabel('Frequency')\n",
        "plt.title('Distribution of Delinquency Difference')\n",
        "plt.show()\n"
      ],
      "metadata": {
        "colab": {
          "base_uri": "https://localhost:8080/",
          "height": 472
        },
        "id": "zxandrvx6Qo6",
        "outputId": "29178bed-6501-47e1-fb10-0e4f2a85c883"
      },
      "execution_count": null,
      "outputs": [
        {
          "output_type": "display_data",
          "data": {
            "text/plain": [
              "<Figure size 640x480 with 1 Axes>"
            ],
            "image/png": "[encoded data removed]"
          },
          "metadata": {}
        }
      ]
    },
    {
      "cell_type": "code",
      "source": [],
      "metadata": {
        "id": "HxmUxHNx69Fk"
      },
      "execution_count": null,
      "outputs": []
    },
    {
      "cell_type": "code",
      "source": [
        "df['19_PCTWHPOP'].plot(kind='hist', bins=10, figsize=(10, 8))\n",
        "plt.xlabel('19_PCTWHPOP')\n",
        "plt.ylabel('Frequency')\n",
        "plt.title('% of White Population')\n",
        "plt.show()\n",
        "\n",
        "df['19_PCTBLPOP'].plot(kind='hist', bins=10, figsize=(10, 8))\n",
        "plt.xlabel('19_PCTBLPOP')\n",
        "plt.ylabel('Frequency')\n",
        "plt.title('% of Black Population')\n",
        "plt.show()\n",
        "\n",
        "df['19_PCTHISPOP'].plot(kind='hist', bins=10, figsize=(10, 8))\n",
        "plt.xlabel('19_PCTHISPOP')\n",
        "plt.ylabel('Frequency')\n",
        "plt.title('% of Hispanic Population')\n",
        "plt.show()\n"
      ],
      "metadata": {
        "id": "xFMn6Cs5L-42"
      },
      "execution_count": null,
      "outputs": []
    },
    {
      "cell_type": "code",
      "source": [
        "\n",
        "df['pct_nonwhite'].plot(kind='hist', bins=10, figsize=(7, 5))\n",
        "plt.xlabel('pct_nonwhite')\n",
        "plt.ylabel('Frequency')\n",
        "plt.title('Distribution of pct_nonwhite')\n",
        "plt.show()\n"
      ],
      "metadata": {
        "id": "9K1pDQa4WLYv"
      },
      "execution_count": null,
      "outputs": []
    },
    {
      "cell_type": "code",
      "source": [
        "from sklearn.model_selection import train_test_split\n",
        "from sklearn.linear_model import LinearRegression\n",
        "from sklearn.metrics import mean_squared_error\n",
        "\n",
        "X = df_filtered.drop(columns=[ 'zip', 'at36_x', 'at36_y' 'delinq_diff' ])\n",
        "y = df_filtered['delinq_diff']\n",
        "\n",
        "# Split the data into training and test sets\n",
        "X_train, X_test, y_train, y_test = train_test_split(X, y, test_size=0.2, random_state=32)\n",
        "\n",
        "# Instantiate the linear regression model\n",
        "model = LinearRegression()\n",
        "\n",
        "# Fit the model on the training data\n",
        "model.fit(X_train, y_train)\n",
        "\n",
        "# Predict on the test data\n",
        "y_pred = model.predict(X_test)\n",
        "\n",
        "# Calculate the mean squared error\n",
        "mse = mean_squared_error(y_test, y_pred)\n",
        "print(\"Mean Squared Error:\", mse)\n",
        "\n",
        "# You can also examine the model coefficients if needed\n",
        "print(\"Coefficients:\", model.coef_)\n",
        "print(\"Intercept:\", model.intercept_)\n"
      ],
      "metadata": {
        "id": "p0HLlnQ4vjw4"
      },
      "execution_count": null,
      "outputs": []
    },
    {
      "cell_type": "code",
      "source": [
        "import statsmodels.api as sm\n",
        "model = sm.OLS(y_train, X_train).fit()\n",
        "\n",
        "# Print the summary statistics of the model\n",
        "print(model.summary())\n"
      ],
      "metadata": {
        "id": "itr0_l5Nvj1z"
      },
      "execution_count": null,
      "outputs": []
    },
    {
      "cell_type": "code",
      "source": [
        "plt.figure(figsize=(8, 6))\n",
        "sns.scatterplot(x=X1.iloc[:, 0], y=residuals, color='blue')\n",
        "plt.title('Residual Plot for Linear Regression Model')\n",
        "plt.xlabel('Predictor Variable')\n",
        "plt.ylabel('Residuals')\n",
        "plt.axhline(y=0, color='red', linestyle='--')  # Add a horizontal line at y=0 for reference\n",
        "plt.grid(True)\n",
        "plt.show()"
      ],
      "metadata": {
        "id": "Q5GiU0Hu1guk"
      },
      "execution_count": null,
      "outputs": []
    },
    {
      "cell_type": "code",
      "source": [
        "# prompt: plot feature importance\n",
        "\n",
        "importances = model.coef_\n",
        "features = X.columns\n",
        "\n",
        "plt.figure(figsize=(10, 6))\n",
        "plt.bar(features, importances, color='blue')\n",
        "plt.xlabel('Features')\n",
        "plt.ylabel('Importance')\n",
        "plt.title('Feature Importance')\n",
        "plt.show()\n"
      ],
      "metadata": {
        "id": "W9QpKiVe5iqp"
      },
      "execution_count": null,
      "outputs": []
    },
    {
      "cell_type": "code",
      "source": [
        "# Random forest regression with 'delinq_diff' as target variable\n",
        "\n",
        "from sklearn.ensemble import RandomForestRegressor\n",
        "\n",
        "# Drop 'Year_x', 'zip' columns from the DataFrame\n",
        "X = df_filtered.drop(columns=[ 'zip', '20_CRRTTYPE', '20_AVGHHSIZE', '20_HH20', '20_MEDAGHHER','20_POPGROW20', '20_MEDVEHICLE', 'at36_y', 'diversity_index', 'delinq_diff', 'at36_x'])\n",
        "\n",
        "# Define target variable\n",
        "y = df_filtered['at36_y']\n",
        "\n",
        "# Split the data into training and test sets\n",
        "X_train, X_test, y_train, y_test = train_test_split(X, y, test_size=0.2, random_state=42)\n",
        "\n",
        "model1 = RandomForestRegressor(n_estimators=150, random_state=42)\n",
        "\n",
        "# Fit the model on the training data\n",
        "model1.fit(X_train, y_train)\n",
        "\n",
        "# Predict on the test data\n",
        "y_pred = model1.predict(X_test)\n",
        "\n",
        "# Calculate the mean squared error\n",
        "mse = mean_squared_error(y_test, y_pred)\n",
        "print(\"Mean Squared Error:\", mse)\n",
        "\n",
        "print(\"Feature importances:\", model1.feature_importances_)\n"
      ],
      "metadata": {
        "id": "BtFyhMex2WW-"
      },
      "execution_count": null,
      "outputs": []
    },
    {
      "cell_type": "code",
      "source": [
        "from sklearn.metrics import mean_squared_error, r2_score\n",
        "\n",
        "mse = mean_squared_error(y_test, y_pred)\n",
        "r2 = r2_score(y_test, y_pred)\n",
        "\n",
        "print(f\"Mean squared error: {mse}\")\n",
        "print(f\"R^2 score: {r2}\")\n"
      ],
      "metadata": {
        "id": "_v57ezhvyIpj"
      },
      "execution_count": null,
      "outputs": []
    },
    {
      "cell_type": "code",
      "source": [
        "importances = model1.feature_importances_\n",
        "features = X.columns\n",
        "\n",
        "plt.figure(figsize=(10, 6))delinq\n",
        "plt.barh(features, importances, align='center')\n",
        "plt.xlabel('Importance')\n",
        "plt.ylabel('Feature')\n",
        "plt.title('Feature Importances for Random Forest Model')\n",
        "plt.show()"
      ],
      "metadata": {
        "id": "tbJe-YbHzahC"
      },
      "execution_count": null,
      "outputs": []
    },
    {
      "cell_type": "code",
      "source": [
        "# residual model for random forest regression\n",
        "\n",
        "import numpy as np\n",
        "import matplotlib.pyplot as plt\n",
        "\n",
        "# Calculate the residuals\n",
        "residuals = y_test - y_pred\n",
        "\n",
        "plt.scatter(y_test, residuals)\n",
        "\n",
        "plt.axhline(0, linestyle='--', color='red')\n",
        "\n",
        "plt.xlabel('Predicted Values')\n",
        "plt.ylabel('Residuals')\n",
        "plt.title('Residual Plot for Random Forest Regression')\n",
        "\n",
        "plt.show()\n",
        "\n",
        "# Calculate the mean and standard deviation of the residuals\n",
        "mean_residual = np.mean(residuals)\n",
        "std_residual = np.std(residuals)\n",
        "\n",
        "print(f\"Mean residual: {mean_residual}\")\n",
        "print(f\"Standard deviation of residuals: {std_residual}\")"
      ],
      "metadata": {
        "id": "65NFHpdK5eGS"
      },
      "execution_count": null,
      "outputs": []
    },
    {
      "cell_type": "code",
      "source": [],
      "metadata": {
        "id": "NoHUlHuUbTSy"
      },
      "execution_count": null,
      "outputs": []
    }
  ],
  "metadata": {
    "colab": {
      "machine_shape": "hm",
      "provenance": [],
      "authorship_tag": "ABX9TyPKT5+iobgFHn1PFkh8RJhx",
      "include_colab_link": true
    },
    "kernelspec": {
      "display_name": "Python 3",
      "name": "python3"
    },
    "language_info": {
      "name": "python"
    }
  },
  "nbformat": 4,
  "nbformat_minor": 0
}
